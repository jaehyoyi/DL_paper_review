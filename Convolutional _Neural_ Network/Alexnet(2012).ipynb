{
 "cells": [
  {
   "cell_type": "code",
   "execution_count": 1,
   "metadata": {},
   "outputs": [
    {
     "data": {
      "image/png": "[encoded data removed]",
      "text/plain": [
       "<IPython.core.display.Image object>"
      ]
     },
     "metadata": {},
     "output_type": "display_data"
    }
   ],
   "source": [
    "#Alexnet Architecture\n",
    "import os \n",
    "os.getcwd() #check current directory\n",
    "os.chdir('/Users/jaehyoyi/Desktop/') # move to Desktop directory\n",
    "from IPython.display import Image, display\n",
    "#cd /Users/jaehyoyi/Desktop\n",
    "display(Image(filename='Alexnet.png'))\n",
    "#picture from : https://medium.com/analytics-vidhya/concept-of-alexnet-convolutional-neural-network-6e73b4f9ee30\n"
   ]
  },
  {
   "cell_type": "code",
   "execution_count": 2,
   "metadata": {},
   "outputs": [],
   "source": [
    "#Alexnet code\n",
    "#Reference : https://github.com/dansuh17/alexnet-pytorch/blob/d0c1b1c52296ffcbecfbf5b17e1d1685b4ca6744/model.py#L40\n",
    "            #https://ingu627.github.io/code/alexnet_pytorch/\n",
    "\n",
    "\n",
    "#Import Necessary packages(?)\n",
    "\n",
    "import os   #In python, use to copy files, make directory, change directory etc\n",
    "import torch\n",
    "import torch.nn as nn #nn stands for neural networks --> use attribute to make states\n",
    "import torch.optim as optim\n",
    "import torch.nn.functional as F\n",
    "from torch.utils import data\n",
    "import torchvision        #torch vision packages include datasets, model architecture, image transformation etc\n",
    "import torchvision.datasets as datasets\n",
    "import torchvision.transforms as transforms\n",
    "import pandas as pd\n",
    "import numpy as np\n",
    "import matplotlib.pyplot as plt\n",
    "from PIL import Image\n",
    "from torch.utils.data import Dataset, DataLoader\n"
   ]
  },
  {
   "cell_type": "code",
   "execution_count": 11,
   "metadata": {},
   "outputs": [
    {
     "name": "stdout",
     "output_type": "stream",
     "text": [
      "2.0.1\n",
      "cpu\n"
     ]
    }
   ],
   "source": [
    "#Define Epoch, batch size, device\n",
    "\n",
    "epochs = 10\n",
    "batch_size = 512\n",
    "\n",
    "device = (\"cuda\" if torch.cuda.is_available() else \"cpu\") #Use GPU if avaliable, if not use cpu\n",
    "class_names = [\n",
    "    \"T-shirt/top\", \"Trouse\", \"Pullover\", \"Dress\", \"Coat\",\n",
    "    \"Sandal\", \"Shirt\", \"Sneaker\", \"Bag\", \"Ankle boot\"\n",
    "] \n",
    "#FASHION_MNIST Dataset has 10 classes\n",
    "\n",
    "\n",
    "print(torch.__version__)\n",
    "print(device) #check if using cpu or gpu"
   ]
  },
  {
   "cell_type": "code",
   "execution_count": 8,
   "metadata": {},
   "outputs": [
    {
     "name": "stdout",
     "output_type": "stream",
     "text": [
      "Downloading http://fashion-mnist.s3-website.eu-central-1.amazonaws.com/train-images-idx3-ubyte.gz\n",
      "Downloading http://fashion-mnist.s3-website.eu-central-1.amazonaws.com/train-images-idx3-ubyte.gz to data/FashionMNIST/raw/train-images-idx3-ubyte.gz\n"
     ]
    },
    {
     "name": "stderr",
     "output_type": "stream",
     "text": [
      "100.0%\n"
     ]
    },
    {
     "name": "stdout",
     "output_type": "stream",
     "text": [
      "Extracting data/FashionMNIST/raw/train-images-idx3-ubyte.gz to data/FashionMNIST/raw\n",
      "\n",
      "Downloading http://fashion-mnist.s3-website.eu-central-1.amazonaws.com/train-labels-idx1-ubyte.gz\n",
      "Downloading http://fashion-mnist.s3-website.eu-central-1.amazonaws.com/train-labels-idx1-ubyte.gz to data/FashionMNIST/raw/train-labels-idx1-ubyte.gz\n"
     ]
    },
    {
     "name": "stderr",
     "output_type": "stream",
     "text": [
      "100.0%\n"
     ]
    },
    {
     "name": "stdout",
     "output_type": "stream",
     "text": [
      "Extracting data/FashionMNIST/raw/train-labels-idx1-ubyte.gz to data/FashionMNIST/raw\n",
      "\n",
      "Downloading http://fashion-mnist.s3-website.eu-central-1.amazonaws.com/t10k-images-idx3-ubyte.gz\n",
      "Downloading http://fashion-mnist.s3-website.eu-central-1.amazonaws.com/t10k-images-idx3-ubyte.gz to data/FashionMNIST/raw/t10k-images-idx3-ubyte.gz\n"
     ]
    },
    {
     "name": "stderr",
     "output_type": "stream",
     "text": [
      "100.0%\n"
     ]
    },
    {
     "name": "stdout",
     "output_type": "stream",
     "text": [
      "Extracting data/FashionMNIST/raw/t10k-images-idx3-ubyte.gz to data/FashionMNIST/raw\n",
      "\n",
      "Downloading http://fashion-mnist.s3-website.eu-central-1.amazonaws.com/t10k-labels-idx1-ubyte.gz\n",
      "Downloading http://fashion-mnist.s3-website.eu-central-1.amazonaws.com/t10k-labels-idx1-ubyte.gz to data/FashionMNIST/raw/t10k-labels-idx1-ubyte.gz\n"
     ]
    },
    {
     "name": "stderr",
     "output_type": "stream",
     "text": [
      "100.0%"
     ]
    },
    {
     "name": "stdout",
     "output_type": "stream",
     "text": [
      "Extracting data/FashionMNIST/raw/t10k-labels-idx1-ubyte.gz to data/FashionMNIST/raw\n",
      "\n"
     ]
    },
    {
     "name": "stderr",
     "output_type": "stream",
     "text": [
      "\n"
     ]
    }
   ],
   "source": [
    "#Import more packages(?)\n",
    "#Prepare Dataset\n",
    "\n",
    "transform = transforms.Compose([\n",
    "    transforms.Resize(227),     #FashionMNIST data is 28x28 so has to change to 227x227   \n",
    "    transforms.ToTensor()   #TO Tensor : PIL image or numpy, ndarray --> tensor로 바꿈\n",
    "    \n",
    "])\n",
    "\n",
    "\n",
    "training_data = datasets.FashionMNIST(\n",
    "   root=\"data\", #path where to save the data\n",
    "    train=True, #it is a training dataset\n",
    "    download = True ,#download from internet\n",
    "    transform = transform # feature 및 label 변환(transformation) 지정\n",
    ")\n",
    "\n",
    "validation_data = datasets.FashionMNIST(\n",
    "    root=\"data\",\n",
    "    train=False, #test data\n",
    "    download=True,\n",
    "    transform=transform\n",
    ")\n",
    "\n",
    "\n"
   ]
  },
  {
   "cell_type": "code",
   "execution_count": 9,
   "metadata": {},
   "outputs": [],
   "source": [
    "#Define dataloader\n",
    "#데이터로더는 데이터를 배치 단위로 모델에 밀어주는 역할, 전체 데이터 가운데 일부를 뽑아 sample를 구성한다\n",
    "\n",
    "training_loader = DataLoader(training_data, batch_size=64, shuffle=True)\n",
    "validation_loader = DataLoader(validation_data, batch_size=64, shuffle=True)"
   ]
  },
  {
   "cell_type": "code",
   "execution_count": 11,
   "metadata": {},
   "outputs": [],
   "source": [
    "#Look at some images\n",
    "\n",
    "def matplotlib_imshow(img):\n",
    "    #function to show an image\n",
    "    img = img.mean(dim=0)\n",
    "    img = img/ 2 + 0.5\n",
    "    npimg = img.numpy()\n",
    "    plt.imshow(npimg, cmap = \"Greys\")\n",
    "\n",
    "\n",
    "#get some random training images\n",
    "dataiter = iter(training_loader) #iter --> repeat stuff\n",
    "\n",
    "\n",
    "\n",
    "\n"
   ]
  },
  {
   "cell_type": "code",
   "execution_count": null,
   "metadata": {},
   "outputs": [],
   "source": []
  }
 ],
 "metadata": {
  "kernelspec": {
   "display_name": "Python 3",
   "language": "python",
   "name": "python3"
  },
  "language_info": {
   "codemirror_mode": {
    "name": "ipython",
    "version": 3
   },
   "file_extension": ".py",
   "mimetype": "text/x-python",
   "name": "python",
   "nbconvert_exporter": "python",
   "pygments_lexer": "ipython3",
   "version": "3.11.4"
  },
  "orig_nbformat": 4
 },
 "nbformat": 4,
 "nbformat_minor": 2
}
