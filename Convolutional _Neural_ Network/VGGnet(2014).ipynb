{
 "cells": [
  {
   "cell_type": "code",
   "execution_count": null,
   "metadata": {},
   "outputs": [],
   "source": [
    "#VGG code\n",
    "#Import Necessary packages(?)\n",
    "\n",
    "import os   #In python, use to copy files, make directory, change directory etc\n",
    "import torch\n",
    "import torch.nn as nn #nn stands for neural networks --> use attribute to make states\n",
    "import torch.optim as optim\n",
    "import torch.nn.functional as F\n",
    "from torch.utils import data\n",
    "import torchvision        #torch vision packages include datasets, model architecture, image transformation etc\n",
    "import torchvision.datasets as datasets\n",
    "import torchvision.transforms as transforms\n",
    "import pandas as pd\n",
    "import numpy as np\n",
    "import matplotlib.pyplot as plt\n",
    "from PIL import Image\n",
    "from torch.utils.data import Dataset, DataLoader"
   ]
  }
 ],
 "metadata": {
  "kernelspec": {
   "display_name": "pytorch_3_11",
   "language": "python",
   "name": "python3"
  },
  "language_info": {
   "name": "python",
   "version": "3.11.4"
  },
  "orig_nbformat": 4
 },
 "nbformat": 4,
 "nbformat_minor": 2
}
